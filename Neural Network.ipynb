{
 "cells": [
  {
   "cell_type": "code",
   "execution_count": 1,
   "id": "a63982d6",
   "metadata": {},
   "outputs": [],
   "source": [
    "import pyspark\n",
    "from pyspark.sql import SparkSession\n",
    "import pandas as pd"
   ]
  },
  {
   "cell_type": "code",
   "execution_count": 2,
   "id": "8237c5ae",
   "metadata": {},
   "outputs": [
    {
     "name": "stderr",
     "output_type": "stream",
     "text": [
      "Setting default log level to \"WARN\".\n",
      "To adjust logging level use sc.setLogLevel(newLevel). For SparkR, use setLogLevel(newLevel).\n"
     ]
    },
    {
     "name": "stdout",
     "output_type": "stream",
     "text": [
      "22/12/29 18:45:56 WARN NativeCodeLoader: Unable to load native-hadoop library for your platform... using builtin-java classes where applicable\n",
      "22/12/29 18:45:59 WARN Utils: Service 'SparkUI' could not bind on port 4052. Attempting port 4053.\n"
     ]
    },
    {
     "data": {
      "text/html": [
       "\n",
       "            <div>\n",
       "                <p><b>SparkSession - in-memory</b></p>\n",
       "                \n",
       "        <div>\n",
       "            <p><b>SparkContext</b></p>\n",
       "\n",
       "            <p><a href=\"http://nicolas-macbook-air.home:4053\">Spark UI</a></p>\n",
       "\n",
       "            <dl>\n",
       "              <dt>Version</dt>\n",
       "                <dd><code>v3.3.1</code></dd>\n",
       "              <dt>Master</dt>\n",
       "                <dd><code>local[1]</code></dd>\n",
       "              <dt>AppName</dt>\n",
       "                <dd><code>Github</code></dd>\n",
       "            </dl>\n",
       "        </div>\n",
       "        \n",
       "            </div>\n",
       "        "
      ],
      "text/plain": [
       "<pyspark.sql.session.SparkSession at 0x7fe05d2aa970>"
      ]
     },
     "execution_count": 2,
     "metadata": {},
     "output_type": "execute_result"
    }
   ],
   "source": [
    "#create SparkSession\n",
    "spark = SparkSession.builder\\\n",
    ".master(\"local[1]\")\\\n",
    ".appName(\"Github\")\\\n",
    ".config('spark.ui.port', '4052')\\\n",
    ".getOrCreate()\n",
    "spark"
   ]
  },
  {
   "cell_type": "code",
   "execution_count": 3,
   "id": "c00d70b4",
   "metadata": {},
   "outputs": [
    {
     "name": "stderr",
     "output_type": "stream",
     "text": [
      "                                                                                \r"
     ]
    }
   ],
   "source": [
    "#import Dataframe\n",
    "dataset=spark.read.parquet('/Users/nicolaroth/Downloads/ne3_small_subset.parquet')"
   ]
  },
  {
   "cell_type": "code",
   "execution_count": 4,
   "id": "c7d246af",
   "metadata": {},
   "outputs": [],
   "source": [
    "#set all columns as doubletype\n",
    "for col in dataset.columns:\n",
    "    dataset = dataset.withColumn(col,dataset[col].cast('double'))"
   ]
  },
  {
   "cell_type": "code",
   "execution_count": 5,
   "id": "8f5f39d4",
   "metadata": {},
   "outputs": [],
   "source": [
    "#imput mean in NULL-Values\n",
    "#import\n",
    "from pyspark.ml.feature import VectorAssembler\n",
    "from pyspark.ml.feature import Imputer\n",
    "from pyspark.ml.feature import MinMaxScaler\n",
    "from pyspark.ml.classification import MultilayerPerceptronClassifier"
   ]
  },
  {
   "cell_type": "code",
   "execution_count": 6,
   "id": "bfef5dd0",
   "metadata": {},
   "outputs": [],
   "source": [
    "#reorder columns\n",
    "dataset = dataset.select(sorted(dataset.columns, reverse=True))"
   ]
  },
  {
   "cell_type": "code",
   "execution_count": 7,
   "id": "219c1933",
   "metadata": {},
   "outputs": [
    {
     "name": "stdout",
     "output_type": "stream",
     "text": [
      "22/12/29 18:46:15 WARN package: Truncated the string representation of a plan since it was too large. This behavior can be adjusted by setting 'spark.sql.debug.maxToStringFields'.\n"
     ]
    },
    {
     "name": "stderr",
     "output_type": "stream",
     "text": [
      "                                                                                \r"
     ]
    },
    {
     "name": "stdout",
     "output_type": "stream",
     "text": [
      "+------------------+------------------+------------------+------------------+------------------+------------------+-----------------+------------------+------------------+------------------+------------------+------------------+------------------+------------------+------------------+--------------------+\n",
      "|              UW10|              UW11|              UW12|              UW13|              UW14|              UW15|             UW16|              UW17|              UW18|              UW19|              UW20|              UW21|              UW22|              UW23|              UW24|            features|\n",
      "+------------------+------------------+------------------+------------------+------------------+------------------+-----------------+------------------+------------------+------------------+------------------+------------------+------------------+------------------+------------------+--------------------+\n",
      "|          17080.32|            5337.6| 8139.840000000001|           8273.28|12276.480000000001|           9963.52|7606.080000000001|13521.920000000002|13432.960000000001|11297.920000000002|           7739.52| 6405.120000000001| 7539.360000000001|10764.160000000002|12276.480000000001|[0.30543933054393...|\n",
      "|16724.480000000003| 5115.200000000001| 8006.400000000001|           8273.28|          12365.44|10586.240000000002|7339.200000000001|13344.000000000002|12988.160000000002|11742.720000000001|7828.4800000000005| 6227.200000000001|           7739.52|          10319.36|11342.400000000001|[0.28870292887029...|\n",
      "|16279.680000000002|           5070.72| 7606.080000000001| 8006.400000000001|12632.320000000002|10230.400000000001|7139.040000000001|          13077.12|          12721.28|11564.800000000001|           7739.52| 6138.240000000001|           7739.52|10230.400000000001|10808.640000000001|[0.26778242677824...|\n",
      "|16101.760000000002|           4981.76| 7806.240000000001|7828.4800000000005|11920.640000000001| 9874.560000000001|6605.280000000001|           12899.2|          12721.28|11208.960000000001|           8540.16| 5960.320000000001|7272.4800000000005|10052.480000000001|12409.920000000002|[0.25941422594142...|\n",
      "|16101.760000000002|           4803.84| 7872.960000000001|           7739.52|10586.240000000002| 9518.720000000001|6338.400000000001|12632.320000000002|          12543.36|          10853.12|           8273.28| 5782.400000000001| 7139.040000000001|            9785.6|          12543.36|[0.25941422594142...|\n",
      "|15834.880000000001| 4759.360000000001| 7872.960000000001|7828.4800000000005|          11031.04| 9162.880000000001|7139.040000000001|12632.320000000002|12454.400000000001|          10853.12| 8095.360000000001|5693.4400000000005|6805.4400000000005|           9963.52|12409.920000000002|[0.24686192468619...|\n",
      "|15656.960000000001| 4937.280000000001|           7739.52|7828.4800000000005|11208.960000000001|           9073.92|6938.880000000001|          12365.44|          12543.36|10764.160000000002|           7739.52|           5515.52| 6672.000000000001|            9785.6|12276.480000000001|[0.23849372384937...|\n",
      "|15568.000000000002| 4759.360000000001| 7672.800000000001|           7650.56|10942.080000000002|           8807.04|          7205.76|12632.320000000002|12276.480000000001|10586.240000000002| 8362.240000000002|           5248.64| 6872.160000000001|           9607.68|          12143.04|[0.23430962343096...|\n",
      "|          15301.12| 4670.400000000001| 7539.360000000001|           7650.56|          10319.36|           8807.04|6938.880000000001|12454.400000000001|           12009.6|10230.400000000001| 8095.360000000001|           5159.68| 6872.160000000001| 9518.720000000001|11876.160000000002|[0.22175732217573...|\n",
      "|15034.240000000002|           4625.92|           7472.64|           7383.68|10052.480000000001|           9251.84|6938.880000000001|          12365.44|12098.560000000001|          11031.04|           8273.28|           5159.68|            7005.6| 9518.720000000001|          12143.04|[0.20920502092050...|\n",
      "|15212.160000000002|4581.4400000000005|7272.4800000000005|           7294.72|10052.480000000001|           9073.92|          6538.56|12632.320000000002|          12187.52|           10675.2| 8095.360000000001|           5070.72| 6872.160000000001| 9340.800000000001|          11609.28|[0.21757322175732...|\n",
      "|15212.160000000002|4492.4800000000005|           7205.76| 7116.800000000001| 9696.640000000001|           8807.04|          6071.52|12276.480000000001|11920.640000000001|10230.400000000001|           8273.28|            4892.8|           6738.72|           9251.84|12409.920000000002|[0.21757322175732...|\n",
      "|          14767.36|4492.4800000000005| 7139.040000000001| 7116.800000000001| 9518.720000000001|           8273.28|           6004.8|11920.640000000001|11742.720000000001|            9785.6| 8006.400000000001|           4803.84| 6872.160000000001| 9340.800000000001|12409.920000000002|[0.19665271966527...|\n",
      "|          15301.12|           4314.56|           7205.76| 6938.880000000001| 9162.880000000001| 8006.400000000001|6405.120000000001|           12009.6|11742.720000000001|            9785.6| 8095.360000000001|           4981.76| 6672.000000000001| 9340.800000000001|          10141.44|[0.22175732217573...|\n",
      "|          14767.36|           4314.56|7272.4800000000005| 6760.960000000001|           9251.84|            7561.6|6204.960000000001|          11831.68|11386.880000000001|           9607.68|7828.4800000000005|           4803.84| 6405.120000000001| 9162.880000000001|10408.320000000002|[0.19665271966527...|\n",
      "|14500.480000000001| 4181.120000000001| 7139.040000000001| 6760.960000000001|           9073.92|           7294.72|6138.240000000001|          11475.84|11297.920000000002| 9162.880000000001|            7561.6|           4714.88|           6471.84|           9251.84|10808.640000000001|[0.18410041841004...|\n",
      "|14500.480000000001|4092.1600000000003| 7072.320000000001| 6849.920000000001|            8896.0| 7116.800000000001|           6004.8|11208.960000000001|11120.000000000002|           9073.92| 7116.800000000001|           4625.92|           6071.52| 9340.800000000001|10808.640000000001|[0.18410041841004...|\n",
      "|14500.480000000001|           4136.64|           7205.76| 6583.040000000001|           9251.84| 7116.800000000001|          6071.52|11208.960000000001|11386.880000000001| 9162.880000000001| 7027.840000000001|           4714.88| 5938.080000000001| 9340.800000000001|11208.960000000001|[0.18410041841004...|\n",
      "|          14589.44|4092.1600000000003| 7072.320000000001| 6760.960000000001|            8896.0| 7116.800000000001|5871.360000000001|11297.920000000002|11386.880000000001| 8984.960000000001| 7116.800000000001|           4714.88|           5804.64|           9429.76|          10541.76|[0.18828451882845...|\n",
      "|14500.480000000001|4092.1600000000003|            7005.6| 6849.920000000001|            8896.0| 6938.880000000001|5938.080000000001|          11031.04|11297.920000000002|           9073.92| 6849.920000000001|           4625.92|            6004.8| 9518.720000000001|          10141.44|[0.18410041841004...|\n",
      "+------------------+------------------+------------------+------------------+------------------+------------------+-----------------+------------------+------------------+------------------+------------------+------------------+------------------+------------------+------------------+--------------------+\n",
      "only showing top 20 rows\n",
      "\n"
     ]
    }
   ],
   "source": [
    "#create model for imputation with mean\n",
    "imputed_col = ['UW{}'.format(10+i) for i in range(0, 15)]\n",
    "\n",
    "model = Imputer(strategy='mean',missingValue=None,inputCols=imputed_col,outputCols=imputed_col).fit(dataset)\n",
    "impute_data = model.transform(dataset)\n",
    "\n",
    "assemble = VectorAssembler(inputCols=imputed_col, outputCol='assembled_features', handleInvalid='error')\n",
    "a_data = assemble.transform(impute_data)\n",
    "scaler = MinMaxScaler(min=0.0, max=1.0, inputCol='assembled_features', outputCol='features')\n",
    "s_data = scaler.fit(a_data).transform(a_data)\n",
    "\n",
    "a = ['UW10', 'UW11', 'UW12', 'UW13', 'UW14', 'UW15', 'UW16', 'UW17', 'UW18', 'UW19', 'UW20', 'UW21', 'UW22', 'UW23', 'UW24','features']\n",
    "s_data.select(*a) . show()"
   ]
  },
  {
   "cell_type": "code",
   "execution_count": 8,
   "id": "06326a55",
   "metadata": {},
   "outputs": [
    {
     "name": "stderr",
     "output_type": "stream",
     "text": [
      "[Stage 9:>                                                          (0 + 1) / 1]\r"
     ]
    },
    {
     "name": "stdout",
     "output_type": "stream",
     "text": [
      "22/12/29 18:46:28 WARN BlockManager: Putting block rdd_40_0 failed due to exception org.apache.spark.SparkException: Failed to execute user defined function (OneHotEncoderModel$$Lambda$3641/2132759836: (double, int) => struct<type:tinyint,size:int,indices:array<int>,values:array<double>>).\n",
      "22/12/29 18:46:28 WARN BlockManager: Block rdd_40_0 could not be removed as it was not found on disk or in memory\n",
      "22/12/29 18:46:28 ERROR Executor: Exception in task 0.0 in stage 9.0 (TID 7)\n",
      "org.apache.spark.SparkException: Failed to execute user defined function (OneHotEncoderModel$$Lambda$3641/2132759836: (double, int) => struct<type:tinyint,size:int,indices:array<int>,values:array<double>>)\n",
      "\tat org.apache.spark.sql.errors.QueryExecutionErrors$.failedExecuteUserDefinedFunctionError(QueryExecutionErrors.scala:190)\n",
      "\tat org.apache.spark.sql.errors.QueryExecutionErrors.failedExecuteUserDefinedFunctionError(QueryExecutionErrors.scala)\n",
      "\tat org.apache.spark.sql.catalyst.expressions.GeneratedClass$GeneratedIteratorForCodegenStage1.processNext(Unknown Source)\n",
      "\tat org.apache.spark.sql.execution.BufferedRowIterator.hasNext(BufferedRowIterator.java:43)\n",
      "\tat org.apache.spark.sql.execution.WholeStageCodegenExec$$anon$1.hasNext(WholeStageCodegenExec.scala:760)\n",
      "\tat scala.collection.Iterator$$anon$10.hasNext(Iterator.scala:460)\n",
      "\tat scala.collection.Iterator$$anon$10.hasNext(Iterator.scala:460)\n",
      "\tat scala.collection.Iterator$$anon$10.hasNext(Iterator.scala:460)\n",
      "\tat scala.collection.Iterator$GroupedIterator.fill(Iterator.scala:1211)\n",
      "\tat scala.collection.Iterator$GroupedIterator.hasNext(Iterator.scala:1217)\n",
      "\tat scala.collection.Iterator$$anon$10.hasNext(Iterator.scala:460)\n",
      "\tat scala.collection.Iterator$$anon$10.hasNext(Iterator.scala:460)\n",
      "\tat org.apache.spark.storage.memory.MemoryStore.putIterator(MemoryStore.scala:223)\n",
      "\tat org.apache.spark.storage.memory.MemoryStore.putIteratorAsValues(MemoryStore.scala:302)\n",
      "\tat org.apache.spark.storage.BlockManager.$anonfun$doPutIterator$1(BlockManager.scala:1518)\n",
      "\tat org.apache.spark.storage.BlockManager.org$apache$spark$storage$BlockManager$$doPut(BlockManager.scala:1445)\n",
      "\tat org.apache.spark.storage.BlockManager.doPutIterator(BlockManager.scala:1509)\n",
      "\tat org.apache.spark.storage.BlockManager.getOrElseUpdate(BlockManager.scala:1332)\n",
      "\tat org.apache.spark.rdd.RDD.getOrCompute(RDD.scala:376)\n",
      "\tat org.apache.spark.rdd.RDD.iterator(RDD.scala:327)\n",
      "\tat org.apache.spark.scheduler.ResultTask.runTask(ResultTask.scala:90)\n",
      "\tat org.apache.spark.scheduler.Task.run(Task.scala:136)\n",
      "\tat org.apache.spark.executor.Executor$TaskRunner.$anonfun$run$3(Executor.scala:548)\n",
      "\tat org.apache.spark.util.Utils$.tryWithSafeFinally(Utils.scala:1504)\n",
      "\tat org.apache.spark.executor.Executor$TaskRunner.run(Executor.scala:551)\n",
      "\tat java.util.concurrent.ThreadPoolExecutor.runWorker(ThreadPoolExecutor.java:1149)\n",
      "\tat java.util.concurrent.ThreadPoolExecutor$Worker.run(ThreadPoolExecutor.java:624)\n",
      "\tat java.lang.Thread.run(Thread.java:750)\n",
      "Caused by: org.apache.spark.SparkException: Unseen value: 3380.4800000000005. To handle unseen values, set Param handleInvalid to keep.\n",
      "\tat org.apache.spark.ml.feature.OneHotEncoderModel.$anonfun$encoder$1(OneHotEncoder.scala:275)\n",
      "\tat org.apache.spark.ml.feature.OneHotEncoderModel.$anonfun$encoder$1$adapted(OneHotEncoder.scala:260)\n",
      "\t... 26 more\n",
      "22/12/29 18:46:28 WARN TaskSetManager: Lost task 0.0 in stage 9.0 (TID 7) (nicolas-macbook-air.home executor driver): org.apache.spark.SparkException: Failed to execute user defined function (OneHotEncoderModel$$Lambda$3641/2132759836: (double, int) => struct<type:tinyint,size:int,indices:array<int>,values:array<double>>)\n",
      "\tat org.apache.spark.sql.errors.QueryExecutionErrors$.failedExecuteUserDefinedFunctionError(QueryExecutionErrors.scala:190)\n",
      "\tat org.apache.spark.sql.errors.QueryExecutionErrors.failedExecuteUserDefinedFunctionError(QueryExecutionErrors.scala)\n",
      "\tat org.apache.spark.sql.catalyst.expressions.GeneratedClass$GeneratedIteratorForCodegenStage1.processNext(Unknown Source)\n",
      "\tat org.apache.spark.sql.execution.BufferedRowIterator.hasNext(BufferedRowIterator.java:43)\n",
      "\tat org.apache.spark.sql.execution.WholeStageCodegenExec$$anon$1.hasNext(WholeStageCodegenExec.scala:760)\n",
      "\tat scala.collection.Iterator$$anon$10.hasNext(Iterator.scala:460)\n",
      "\tat scala.collection.Iterator$$anon$10.hasNext(Iterator.scala:460)\n",
      "\tat scala.collection.Iterator$$anon$10.hasNext(Iterator.scala:460)\n",
      "\tat scala.collection.Iterator$GroupedIterator.fill(Iterator.scala:1211)\n",
      "\tat scala.collection.Iterator$GroupedIterator.hasNext(Iterator.scala:1217)\n",
      "\tat scala.collection.Iterator$$anon$10.hasNext(Iterator.scala:460)\n",
      "\tat scala.collection.Iterator$$anon$10.hasNext(Iterator.scala:460)\n",
      "\tat org.apache.spark.storage.memory.MemoryStore.putIterator(MemoryStore.scala:223)\n",
      "\tat org.apache.spark.storage.memory.MemoryStore.putIteratorAsValues(MemoryStore.scala:302)\n",
      "\tat org.apache.spark.storage.BlockManager.$anonfun$doPutIterator$1(BlockManager.scala:1518)\n",
      "\tat org.apache.spark.storage.BlockManager.org$apache$spark$storage$BlockManager$$doPut(BlockManager.scala:1445)\n",
      "\tat org.apache.spark.storage.BlockManager.doPutIterator(BlockManager.scala:1509)\n",
      "\tat org.apache.spark.storage.BlockManager.getOrElseUpdate(BlockManager.scala:1332)\n",
      "\tat org.apache.spark.rdd.RDD.getOrCompute(RDD.scala:376)\n",
      "\tat org.apache.spark.rdd.RDD.iterator(RDD.scala:327)\n",
      "\tat org.apache.spark.scheduler.ResultTask.runTask(ResultTask.scala:90)\n",
      "\tat org.apache.spark.scheduler.Task.run(Task.scala:136)\n",
      "\tat org.apache.spark.executor.Executor$TaskRunner.$anonfun$run$3(Executor.scala:548)\n",
      "\tat org.apache.spark.util.Utils$.tryWithSafeFinally(Utils.scala:1504)\n",
      "\tat org.apache.spark.executor.Executor$TaskRunner.run(Executor.scala:551)\n",
      "\tat java.util.concurrent.ThreadPoolExecutor.runWorker(ThreadPoolExecutor.java:1149)\n",
      "\tat java.util.concurrent.ThreadPoolExecutor$Worker.run(ThreadPoolExecutor.java:624)\n",
      "\tat java.lang.Thread.run(Thread.java:750)\n",
      "Caused by: org.apache.spark.SparkException: Unseen value: 3380.4800000000005. To handle unseen values, set Param handleInvalid to keep.\n",
      "\tat org.apache.spark.ml.feature.OneHotEncoderModel.$anonfun$encoder$1(OneHotEncoder.scala:275)\n",
      "\tat org.apache.spark.ml.feature.OneHotEncoderModel.$anonfun$encoder$1$adapted(OneHotEncoder.scala:260)\n",
      "\t... 26 more\n",
      "\n",
      "22/12/29 18:46:28 ERROR TaskSetManager: Task 0 in stage 9.0 failed 1 times; aborting job\n",
      "22/12/29 18:46:28 ERROR Instrumentation: org.apache.spark.SparkException: Job aborted due to stage failure: Task 0 in stage 9.0 failed 1 times, most recent failure: Lost task 0.0 in stage 9.0 (TID 7) (nicolas-macbook-air.home executor driver): org.apache.spark.SparkException: Failed to execute user defined function (OneHotEncoderModel$$Lambda$3641/2132759836: (double, int) => struct<type:tinyint,size:int,indices:array<int>,values:array<double>>)\n",
      "\tat org.apache.spark.sql.errors.QueryExecutionErrors$.failedExecuteUserDefinedFunctionError(QueryExecutionErrors.scala:190)\n",
      "\tat org.apache.spark.sql.errors.QueryExecutionErrors.failedExecuteUserDefinedFunctionError(QueryExecutionErrors.scala)\n",
      "\tat org.apache.spark.sql.catalyst.expressions.GeneratedClass$GeneratedIteratorForCodegenStage1.processNext(Unknown Source)\n",
      "\tat org.apache.spark.sql.execution.BufferedRowIterator.hasNext(BufferedRowIterator.java:43)\n",
      "\tat org.apache.spark.sql.execution.WholeStageCodegenExec$$anon$1.hasNext(WholeStageCodegenExec.scala:760)\n",
      "\tat scala.collection.Iterator$$anon$10.hasNext(Iterator.scala:460)\n",
      "\tat scala.collection.Iterator$$anon$10.hasNext(Iterator.scala:460)\n",
      "\tat scala.collection.Iterator$$anon$10.hasNext(Iterator.scala:460)\n",
      "\tat scala.collection.Iterator$GroupedIterator.fill(Iterator.scala:1211)\n",
      "\tat scala.collection.Iterator$GroupedIterator.hasNext(Iterator.scala:1217)\n",
      "\tat scala.collection.Iterator$$anon$10.hasNext(Iterator.scala:460)\n",
      "\tat scala.collection.Iterator$$anon$10.hasNext(Iterator.scala:460)\n",
      "\tat org.apache.spark.storage.memory.MemoryStore.putIterator(MemoryStore.scala:223)\n",
      "\tat org.apache.spark.storage.memory.MemoryStore.putIteratorAsValues(MemoryStore.scala:302)\n",
      "\tat org.apache.spark.storage.BlockManager.$anonfun$doPutIterator$1(BlockManager.scala:1518)\n",
      "\tat org.apache.spark.storage.BlockManager.org$apache$spark$storage$BlockManager$$doPut(BlockManager.scala:1445)\n",
      "\tat org.apache.spark.storage.BlockManager.doPutIterator(BlockManager.scala:1509)\n",
      "\tat org.apache.spark.storage.BlockManager.getOrElseUpdate(BlockManager.scala:1332)\n",
      "\tat org.apache.spark.rdd.RDD.getOrCompute(RDD.scala:376)\n",
      "\tat org.apache.spark.rdd.RDD.iterator(RDD.scala:327)\n",
      "\tat org.apache.spark.scheduler.ResultTask.runTask(ResultTask.scala:90)\n",
      "\tat org.apache.spark.scheduler.Task.run(Task.scala:136)\n",
      "\tat org.apache.spark.executor.Executor$TaskRunner.$anonfun$run$3(Executor.scala:548)\n",
      "\tat org.apache.spark.util.Utils$.tryWithSafeFinally(Utils.scala:1504)\n",
      "\tat org.apache.spark.executor.Executor$TaskRunner.run(Executor.scala:551)\n",
      "\tat java.util.concurrent.ThreadPoolExecutor.runWorker(ThreadPoolExecutor.java:1149)\n",
      "\tat java.util.concurrent.ThreadPoolExecutor$Worker.run(ThreadPoolExecutor.java:624)\n",
      "\tat java.lang.Thread.run(Thread.java:750)\n",
      "Caused by: org.apache.spark.SparkException: Unseen value: 3380.4800000000005. To handle unseen values, set Param handleInvalid to keep.\n",
      "\tat org.apache.spark.ml.feature.OneHotEncoderModel.$anonfun$encoder$1(OneHotEncoder.scala:275)\n",
      "\tat org.apache.spark.ml.feature.OneHotEncoderModel.$anonfun$encoder$1$adapted(OneHotEncoder.scala:260)\n",
      "\t... 26 more\n",
      "\n",
      "Driver stacktrace:\n",

   "source": [
    "#execute model\n",
    "train_df,test_df = s_data.select('UW10', 'UW11', 'UW12', 'UW13', 'UW14', 'UW15', 'UW16', 'UW17', 'UW18', 'UW19', 'UW20', 'UW21', 'UW22', 'UW23', 'UW24','features').randomSplit([0.7,0.3],1213)\n",
    "\n",
    "mlpc=MultilayerPerceptronClassifier(featuresCol='features', labelCol = 'UW11', layers = [16,16,2],\\\n",
    " maxIter=1000,blockSize=8,seed=7,solver='gd')\n",
    "ann = mlpc.fit(train_df)"
   ]
  }
 ],
 "metadata": {
  "kernelspec": {
   "display_name": "Python 3 (ipykernel)",
   "language": "python",
   "name": "python3"
  },
  "language_info": {
   "codemirror_mode": {
    "name": "ipython",
    "version": 3
   },
   "file_extension": ".py",
   "mimetype": "text/x-python",
   "name": "python",
   "nbconvert_exporter": "python",
   "pygments_lexer": "ipython3",
   "version": "3.9.12"
  }
 },
 "nbformat": 4,
 "nbformat_minor": 5
}
